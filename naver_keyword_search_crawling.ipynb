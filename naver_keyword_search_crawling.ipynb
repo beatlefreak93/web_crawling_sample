{
 "cells": [
  {
   "cell_type": "code",
   "execution_count": 1,
   "id": "db1b4236",
   "metadata": {},
   "outputs": [
    {
     "name": "stderr",
     "output_type": "stream",
     "text": [
      "C:\\Users\\My\\AppData\\Local\\Temp/ipykernel_29208/3670225421.py:14: DeprecationWarning: executable_path has been deprecated, please pass in a Service object\n",
      "  driver = webdriver.Chrome('C:/chrome_driver/chromedriver.exe')\n",
      "C:\\Users\\My\\AppData\\Local\\Temp/ipykernel_29208/3670225421.py:24: DeprecationWarning: find_element_by_name is deprecated. Please use find_element(by=By.NAME, value=name) instead\n",
      "  driver.find_element_by_name('id').send_keys('panstar')\n",
      "C:\\Users\\My\\AppData\\Local\\Temp/ipykernel_29208/3670225421.py:26: DeprecationWarning: find_element_by_name is deprecated. Please use find_element(by=By.NAME, value=name) instead\n",
      "  driver.find_element_by_name('pw').send_keys('pan6811')\n",
      "C:\\Users\\My\\AppData\\Local\\Temp/ipykernel_29208/3670225421.py:31: DeprecationWarning: find_element_by_xpath is deprecated. Please use find_element(by=By.XPATH, value=xpath) instead\n",
      "  driver.find_element_by_xpath('//*[@id=\"container\"]/div/div/fieldset/div/div/button').click()\n",
      "C:\\Users\\My\\AppData\\Local\\Temp/ipykernel_29208/3670225421.py:49: DeprecationWarning: find_element_by_css_selector is deprecated. Please use find_element(by=By.CSS_SELECTOR, value=css_selector) instead\n",
      "  searchbox = driver.find_element_by_css_selector('#root > div > div.sc-pkrWq.iIIlsF > div > div > div.row > div.col-sm-9.col-keyword-query > div:nth-child(1) > div.card-body > div > div:nth-child(1) > div > textarea')\n",
      "C:\\Users\\My\\AppData\\Local\\Temp/ipykernel_29208/3670225421.py:53: DeprecationWarning: find_element_by_xpath is deprecated. Please use find_element(by=By.XPATH, value=xpath) instead\n",
      "  driver.find_element_by_xpath('//*[@id=\"root\"]/div/div[2]/div/div/div[2]/div[1]/div[1]/div[3]/button').click()\n",
      "C:\\Users\\My\\AppData\\Local\\Temp/ipykernel_29208/3670225421.py:56: DeprecationWarning: find_element_by_xpath is deprecated. Please use find_element(by=By.XPATH, value=xpath) instead\n",
      "  driver.find_element_by_xpath('//*[@id=\"root\"]/div/div[2]/div/div/div[2]/div[1]/div[2]/div[1]/div/button').click()\n"
     ]
    }
   ],
   "source": [
    "#pip install selenium으로 먼저 selenium 패키지 다운로드 해주세요.\n",
    "\n",
    "\n",
    "from selenium import webdriver\n",
    "import time\n",
    "from time import sleep\n",
    "\n",
    "\n",
    "\n",
    "\n",
    "#https://chromedriver.chromium.org/downloads에서 chromewebdriver를 다운받으신 뒤, 아래 디렉토리를 만들어 넣어주세요.\n",
    "#C드라이브에 새폴더명을 newfolder로 해서 chromedriver.exe파일을 넣은 경우, C:/newfoler/chromedriver.exe 입력.\n",
    "\n",
    "driver = webdriver.Chrome('C:/chrome_driver/chromedriver.exe')\n",
    "\n",
    "driver.get('https://searchad.naver.com/login')\n",
    "\n",
    "\n",
    "\n",
    "\n",
    "# ID, PW \n",
    "\n",
    "time.sleep(0.5)\n",
    "driver.find_element_by_name('id').send_keys('panstar')\n",
    "time.sleep(0.5)\n",
    "driver.find_element_by_name('pw').send_keys('pan6811')\n",
    "\n",
    "#xpath login\n",
    "\n",
    "time.sleep(0.5)\n",
    "driver.find_element_by_xpath('//*[@id=\"container\"]/div/div/fieldset/div/div/button').click()\n",
    "\n",
    "\n",
    "\n",
    "\n",
    "####search_title 내에 원하는 키워드를 입력해 주세요. ex) '부산여행' (각 키워드는 쉼표로 구분)####\n",
    "\n",
    "\n",
    "search_title = ['일본크루즈여행','국내여행','국내크루즈','남해안투나잇크루즈','대한해협원나잇크루즈','부산크루즈선','부산크루즈여행']\n",
    "\n",
    "#search_title 내 검색어 순서대로 액셀파일로 저장됨.\n",
    "\n",
    "\n",
    "\n",
    "for title in search_title:\n",
    "    driver.get('https://manage.searchad.naver.com/customers/710283/tool/keyword-planner')\n",
    "    \n",
    "    time.sleep(0.1)\n",
    "    searchbox = driver.find_element_by_css_selector('#root > div > div.sc-pkrWq.iIIlsF > div > div > div.row > div.col-sm-9.col-keyword-query > div:nth-child(1) > div.card-body > div > div:nth-child(1) > div > textarea')\n",
    "    \n",
    "    searchbox.send_keys(title)\n",
    "    time.sleep(0.3)\n",
    "    driver.find_element_by_xpath('//*[@id=\"root\"]/div/div[2]/div/div/div[2]/div[1]/div[1]/div[3]/button').click()\n",
    "    \n",
    "    time.sleep(1)\n",
    "    driver.find_element_by_xpath('//*[@id=\"root\"]/div/div[2]/div/div/div[2]/div[1]/div[2]/div[1]/div/button').click()\n"
   ]
  },
  {
   "cell_type": "code",
   "execution_count": null,
   "id": "e2fea3c8",
   "metadata": {},
   "outputs": [],
   "source": []
  },
  {
   "cell_type": "code",
   "execution_count": null,
   "id": "ebda19f4",
   "metadata": {},
   "outputs": [],
   "source": []
  },
  {
   "cell_type": "code",
   "execution_count": null,
   "id": "0eff8aad",
   "metadata": {},
   "outputs": [],
   "source": []
  },
  {
   "cell_type": "code",
   "execution_count": null,
   "id": "c02ed01e",
   "metadata": {},
   "outputs": [],
   "source": []
  },
  {
   "cell_type": "code",
   "execution_count": null,
   "id": "00f8ef96",
   "metadata": {},
   "outputs": [],
   "source": []
  },
  {
   "cell_type": "code",
   "execution_count": null,
   "id": "c5373b73",
   "metadata": {},
   "outputs": [],
   "source": []
  }
 ],
 "metadata": {
  "kernelspec": {
   "display_name": "Python 3 (ipykernel)",
   "language": "python",
   "name": "python3"
  },
  "language_info": {
   "codemirror_mode": {
    "name": "ipython",
    "version": 3
   },
   "file_extension": ".py",
   "mimetype": "text/x-python",
   "name": "python",
   "nbconvert_exporter": "python",
   "pygments_lexer": "ipython3",
   "version": "3.9.7"
  }
 },
 "nbformat": 4,
 "nbformat_minor": 5
}
